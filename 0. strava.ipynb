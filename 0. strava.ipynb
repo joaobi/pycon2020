{
 "metadata": {
  "language_info": {
   "codemirror_mode": {
    "name": "ipython",
    "version": 3
   },
   "file_extension": ".py",
   "mimetype": "text/x-python",
   "name": "python",
   "nbconvert_exporter": "python",
   "pygments_lexer": "ipython3",
   "version": "3.8.5-final"
  },
  "orig_nbformat": 2,
  "kernelspec": {
   "name": "python38564bitpytorchgpuconda1695c8c3f81347399b40395c973c9be2",
   "display_name": "Python 3.8.5 64-bit ('pytorch-gpu': conda)"
  }
 },
 "nbformat": 4,
 "nbformat_minor": 2,
 "cells": [
  {
   "source": [
    "# Explore and Plot my running data\n",
    "---\n",
    "### Learning Objectives:\n",
    "  * Load and Cleanse data\n",
    "  * Explore data\n",
    "\n",
    "### Dataset:\n",
    "  * My Strava (http://www.strava.com) running history\n",
    "    * Can be obatined through the API (https://developers.strava.com/) or by downloading from your profile\n",
    "---"
   ],
   "cell_type": "markdown",
   "metadata": {}
  },
  {
   "source": [
    "## Load Data\n",
    "---"
   ],
   "cell_type": "markdown",
   "metadata": {}
  },
  {
   "cell_type": "code",
   "execution_count": null,
   "metadata": {},
   "outputs": [],
   "source": [
    "import pandas as pd\n",
    "import numpy as np\n",
    "\n",
    "import matplotlib.pyplot as plt"
   ]
  },
  {
   "cell_type": "code",
   "execution_count": null,
   "metadata": {},
   "outputs": [],
   "source": [
    "data = pd.read_csv('data/activities.csv', parse_dates=['Activity Date'])\n",
    "\n",
    "data.head()"
   ]
  },
  {
   "cell_type": "code",
   "execution_count": null,
   "metadata": {},
   "outputs": [],
   "source": [
    "data.columns"
   ]
  },
  {
   "source": [
    "## Clean up  Data:\n",
    "---\n",
    "1. Pick up the relevant Columns\n",
    "1. Keep only activities that are runs (no workouts, swims, hikes, etc...)\n",
    "1. Drop NAs\n",
    "1.  Add calculated column for Average Speed"
   ],
   "cell_type": "markdown",
   "metadata": {}
  },
  {
   "cell_type": "code",
   "execution_count": null,
   "metadata": {},
   "outputs": [],
   "source": [
    "run_cols = ['Activity Date','Activity Name','Activity Type','Elapsed Time','Distance.1', 'Average Heart Rate', 'Average Cadence', 'Average Grade','Relative Effort']\n",
    "\n",
    "# 1. Pick up only relevant columns\n",
    "runs = data[run_cols].copy()\n",
    "\n",
    "# 2. Filter for 'Runs' only\n",
    "runs = runs[runs['Activity Type'].eq('Run')]\n",
    "\n",
    "# 3. Drop NAs\n",
    "runs = runs.dropna()\n",
    "\n",
    "# 4. Add Average Speed column (wrong on source data)\n",
    "runs['Average Speed'] = runs['Distance.1'] / runs['Elapsed Time']\n"
   ]
  },
  {
   "source": [
    "## Explore the Data\n",
    "---\n",
    "1. Describe and Explore Data\n",
    "1. Pick up the relevant Columns\n",
    "1. Explore correlations"
   ],
   "cell_type": "markdown",
   "metadata": {}
  },
  {
   "cell_type": "code",
   "execution_count": null,
   "metadata": {},
   "outputs": [],
   "source": [
    "runs.describe()"
   ]
  },
  {
   "cell_type": "code",
   "execution_count": null,
   "metadata": {},
   "outputs": [],
   "source": [
    "runs"
   ]
  },
  {
   "cell_type": "code",
   "execution_count": null,
   "metadata": {},
   "outputs": [],
   "source": [
    "import seaborn as sns\n",
    "sns.distplot(runs['Relative Effort'])"
   ]
  },
  {
   "cell_type": "code",
   "execution_count": null,
   "metadata": {
    "tags": []
   },
   "outputs": [],
   "source": [
    "# Prepare Calendar Dataframe (fill in days where I did not exercise)\n",
    "first_date = min(runs['Activity Date']).replace(hour=0, minute=0, second=0, microsecond=0)\n",
    "last_date = max(runs['Activity Date']).replace(hour=0, minute=0, second=0, microsecond=0)\n",
    "\n",
    "runs['Activity Date'] = pd.to_datetime(runs['Activity Date'].dt.date)\n",
    "\n",
    "calendar = pd.DataFrame()\n",
    "calendar['days'] = pd.date_range(first_date, last_date, freq='D')\n",
    "\n",
    "full_df = pd.merge(calendar,runs,left_on='days', right_on='Activity Date', how='left')\n",
    "full_df['Distance.1'] = full_df['Distance.1'].fillna(0)\n",
    "full_df.set_index('days', inplace=True)\n",
    "\n",
    "# Print Plot\n",
    "fig = plt.figure()\n",
    "f, axs = plt.subplots(1,1,figsize=(12,3))\n",
    "axs.plot(full_df.index.values,full_df['Distance.1'])\n",
    "plt.title('Kms Run')\n",
    "plt.xlabel('Date', fontsize=9)\n",
    "plt.ylabel('Distance', fontsize=9)    \n",
    "axs.legend(loc='best')\n",
    "plt.grid()\n",
    "plt.show()"
   ]
  },
  {
   "cell_type": "code",
   "execution_count": null,
   "metadata": {
    "tags": []
   },
   "outputs": [],
   "source": [
    "# Group data by Months\n",
    "df = full_df.groupby(pd.Grouper(freq=\"M\")).sum()\n",
    "\n",
    "fig = plt.figure()\n",
    "f, axs = plt.subplots(1,1,figsize=(12,3))\n",
    "axs.plot(df.index.values,df['Distance.1'])\n",
    "\n",
    "plt.title('Kms Run')\n",
    "plt.xlabel('Date', fontsize=9)\n",
    "plt.ylabel('Distance', fontsize=9)\n",
    "plt.ylim(ymin=0)\n",
    "axs.legend(loc='best')\n",
    "plt.grid()\n",
    "\n",
    "plt.show()"
   ]
  },
  {
   "cell_type": "code",
   "execution_count": null,
   "metadata": {},
   "outputs": [],
   "source": [
    "import numpy as np\n",
    "import pandas as pd\n",
    "import matplotlib as mpl\n",
    "import matplotlib.pyplot as plt\n",
    "import seaborn as sns\n",
    "\n",
    "%matplotlib inline\n",
    "\n",
    "# Plot\n",
    "plt.figure(figsize=(12,10), dpi= 80)\n",
    "sns.heatmap(runs.corr(), xticklabels=runs.corr().columns, yticklabels=runs.corr().columns, cmap='RdYlGn', center=0, annot=True)\n",
    "\n",
    "# Decorations\n",
    "plt.title('Correlogram of runs', fontsize=22)\n",
    "plt.xticks(fontsize=12)\n",
    "plt.yticks(fontsize=12)\n",
    "plt.show()"
   ]
  },
  {
   "cell_type": "code",
   "execution_count": null,
   "metadata": {},
   "outputs": [],
   "source": [
    "corr_cols = ['Relative Effort','Distance.1','Elapsed Time','Average Heart Rate']\n",
    "\n",
    "runs_small = runs[corr_cols]\n",
    "\n",
    "sns.pairplot(runs_small)"
   ]
  }
 ]
}